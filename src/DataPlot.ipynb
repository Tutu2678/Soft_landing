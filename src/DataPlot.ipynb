{
 "cells": [
  {
   "cell_type": "code",
   "execution_count": null,
   "id": "950fdbb5-7a79-483d-99e2-b27204ce77f9",
   "metadata": {},
   "outputs": [],
   "source": [
    "# Imports\n",
    "import pandas as pd\n",
    "import matplotlib.pyplot as plt"
   ]
  },
  {
   "cell_type": "code",
   "execution_count": null,
   "id": "573514c3-692f-469f-8ade-1b7b98619db9",
   "metadata": {},
   "outputs": [],
   "source": [
    "# Read data from CSV files\n",
    "file1 = 'file1.csv'  # Replace with your actual file names\n",
    "file2 = 'file2.csv'\n",
    "file3 = 'file3.csv'\n",
    "file4 = 'file4.csv'"
   ]
  },
  {
   "cell_type": "code",
   "execution_count": null,
   "id": "381a0a28-e297-461c-aff8-865454013a27",
   "metadata": {},
   "outputs": [],
   "source": [
    "# Load the data into Pandas DataFrames\n",
    "df1 = pd.read_csv(file1)\n",
    "df2 = pd.read_csv(file2)\n",
    "df3 = pd.read_csv(file3)\n",
    "df4 = pd.read_csv(file4)\n"
   ]
  },
  {
   "cell_type": "code",
   "execution_count": null,
   "id": "70996975-a4e0-4453-8552-1a9ec5048329",
   "metadata": {},
   "outputs": [],
   "source": [
    "x_label = 'Episode'  # Adjust this label as necessary\n",
    "y_label = 'Reward'   # Adjust this label as necessary\n",
    "\n",
    "# Plot graph\n",
    "plt.figure(figsize=(10, 6))\n",
    "\n",
    "plt.plot(df1[x_label], df1[y_label], label='Model 1', color='blue')\n",
    "plt.plot(df2[x_label], df2[y_label], label='Model 2', color='green')\n",
    "plt.plot(df3[x_label], df3[y_label], label='Model 3', color='red')\n",
    "plt.plot(df4[x_label], df4[y_label], label='Model 4', color='orange')\n",
    "\n",
    "plt.xlabel(x_label)\n",
    "plt.ylabel(y_label)\n",
    "plt.title('Comparison of Models Performance')\n",
    "plt.legend()\n",
    "plt.grid(True)\n",
    "plt.show()"
   ]
  }
 ],
 "metadata": {
  "kernelspec": {
   "display_name": "Python 3 (ipykernel)",
   "language": "python",
   "name": "python3"
  },
  "language_info": {
   "codemirror_mode": {
    "name": "ipython",
    "version": 3
   },
   "file_extension": ".py",
   "mimetype": "text/x-python",
   "name": "python",
   "nbconvert_exporter": "python",
   "pygments_lexer": "ipython3",
   "version": "3.11.7"
  }
 },
 "nbformat": 4,
 "nbformat_minor": 5
}
